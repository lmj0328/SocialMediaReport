{
 "cells": [
  {
   "cell_type": "code",
   "execution_count": 15,
   "metadata": {},
   "outputs": [],
   "source": [
    "import requests\n",
    "\n",
    "url = 'https://www.instagram.com/jacksonwang852g7/'\n",
    "\n",
    "headers = {\n",
    "    'user-agent': 'Mozilla/5.0 (Windows NT 10.0; Win64; x64) AppleWebKit/537.36 (KHTML, like Gecko) Chrome/68.0.3440.106 Safari/537.36',\n",
    "#     'cookie': 'mid=W4VyZwALAAHeINz8GOIBiG_jFK5l; mcd=3; csrftoken=KFLY0ovWwChYoayK3OBZLvSuD1MUL04e; ds_user_id=8492674110; sessionid=IGSCee8a4ca969a6825088e207468e4cd6a8ca3941c48d10d4ac59713f257114e74b%3Acwt7nSRdUWOh00B4kIEo4ZVb4ddaZDgs%3A%7B%22_auth_user_id%22%3A8492674110%2C%22_auth_user_backend%22%3A%22accounts.backends.CaseInsensitiveModelBackend%22%2C%22_auth_user_hash%22%3A%22%22%2C%22_platform%22%3A4%2C%22_token_ver%22%3A2%2C%22_token%22%3A%228492674110%3Avsy7NZ3ZPcKWXfPz356F6eXuSUYAePW8%3Ae8135a385c423477f4cc8642107dec4ecf3211270bb63eec0a99da5b47d7a5b7%22%2C%22last_refreshed%22%3A1535472763.3352122307%7D; csrftoken=KFLY0ovWwChYoayK3OBZLvSuD1MUL04e; rur=FRC; urlgen=\"{\\\"103.102.7.202\\\": 57695}:1furLR:EZ6OcQaIegf5GSdIydkTdaml6QU\"'\n",
    "}"
   ]
  },
  {
   "cell_type": "code",
   "execution_count": 16,
   "metadata": {},
   "outputs": [],
   "source": [
    "def get_urls(url):\n",
    "    try:\n",
    "        response = requests.get(url, headers=headers)\n",
    "        if response.status_code == 200:\n",
    "            return response.text\n",
    "        else:    \n",
    "            print('请求错误状态码：', response.status_code)        \n",
    "    except Exception as e:\n",
    "        print(e)\n",
    "        return None"
   ]
  },
  {
   "cell_type": "code",
   "execution_count": 17,
   "metadata": {},
   "outputs": [],
   "source": [
    "html = get_urls(url)\n"
   ]
  },
  {
   "cell_type": "code",
   "execution_count": 18,
   "metadata": {},
   "outputs": [],
   "source": [
    "import json\n",
    "from pyquery import PyQuery as pq"
   ]
  },
  {
   "cell_type": "code",
   "execution_count": 19,
   "metadata": {},
   "outputs": [],
   "source": [
    "urls = []\n",
    "doc = pq(html)\n",
    "items = doc('script[type=\"text/javascript\"]').items()"
   ]
  },
  {
   "cell_type": "code",
   "execution_count": 20,
   "metadata": {},
   "outputs": [],
   "source": [
    "for item in items:\n",
    "    if item.text().strip().startswith('window._sharedData'):\n",
    "        js_data = json.loads(item.text()[21:-1], encoding='utf-8')\n",
    "        edges = js_data[\"entry_data\"][\"ProfilePage\"][0][\"graphql\"][\"user\"][\"edge_owner_to_timeline_media\"][\"edges\"]\n",
    "        for edge in edges:\n",
    "            url = edge['node']['display_url']\n",
    "            urls.append(url)"
   ]
  },
  {
   "cell_type": "code",
   "execution_count": 21,
   "metadata": {},
   "outputs": [
    {
     "data": {
      "text/plain": [
       "['https://scontent-sea1-1.cdninstagram.com/v/t51.2885-15/e35/p1080x1080/95566043_2429568310675620_6460909760169833382_n.jpg?_nc_ht=scontent-sea1-1.cdninstagram.com&_nc_cat=1&_nc_ohc=c_Ohwc-3iwUAX_rrdx0&oh=5fca841063895e55ef68772ac157e3b8&oe=5EE41A12',\n",
       " 'https://scontent-sea1-1.cdninstagram.com/v/t51.2885-15/e35/p1080x1080/94206720_2638897839712199_4378298254840858895_n.jpg?_nc_ht=scontent-sea1-1.cdninstagram.com&_nc_cat=1&_nc_ohc=WrZgPRGcglUAX-vqoB_&oh=5012b9ae868fda31e83029dc3bf5e930&oe=5EE45835',\n",
       " 'https://scontent-sea1-1.cdninstagram.com/v/t51.2885-15/e35/s1080x1080/94473286_229747631572143_5676954310527301281_n.jpg?_nc_ht=scontent-sea1-1.cdninstagram.com&_nc_cat=103&_nc_ohc=wQEuJ49s0O0AX_a8v6K&oh=ed744c00671177254e008cd218baa592&oe=5EE2CFE3',\n",
       " 'https://scontent-sea1-1.cdninstagram.com/v/t51.2885-15/e35/p1080x1080/93778864_511121926436741_2618226051923654980_n.jpg?_nc_ht=scontent-sea1-1.cdninstagram.com&_nc_cat=105&_nc_ohc=0ynVtzFk_5oAX_cGOoL&oh=9ce9765bc24a860f1b61c0af2324ff4d&oe=5EE30344',\n",
       " 'https://scontent-sea1-1.cdninstagram.com/v/t51.2885-15/e35/p1080x1080/94206720_226313558473483_2982630778305821653_n.jpg?_nc_ht=scontent-sea1-1.cdninstagram.com&_nc_cat=107&_nc_ohc=IpQfrEOpCCMAX_koZvu&oh=f50f428cb8f8f8904b1442888b4d9279&oe=5EE259C6',\n",
       " 'https://scontent-sea1-1.cdninstagram.com/v/t51.2885-15/e35/p1080x1080/93279953_636665300449426_8174752656940207176_n.jpg?_nc_ht=scontent-sea1-1.cdninstagram.com&_nc_cat=110&_nc_ohc=EyvrQD8pSu8AX-F3Rbu&oh=2140c56ab5c3b10a691b5dc1fc671765&oe=5EE25DF3',\n",
       " 'https://scontent-sea1-1.cdninstagram.com/v/t51.2885-15/e35/90226943_576461772965367_8198053961843041323_n.jpg?_nc_ht=scontent-sea1-1.cdninstagram.com&_nc_cat=103&_nc_ohc=vbwasGQbo8YAX_Gxwzv&oh=0e1886a11dc86454c2233f0c09a844ef&oe=5EBC1EB0',\n",
       " 'https://scontent-sea1-1.cdninstagram.com/v/t51.2885-15/e35/s1080x1080/89966741_137498527806528_8205531345403621115_n.jpg?_nc_ht=scontent-sea1-1.cdninstagram.com&_nc_cat=100&_nc_ohc=_nj65E46nh4AX8cRpsN&oh=2f403592e922b3cbd646df0727325072&oe=5EE194A3',\n",
       " 'https://scontent-sea1-1.cdninstagram.com/v/t51.2885-15/e35/90089878_141866644003169_5498038777346173229_n.jpg?_nc_ht=scontent-sea1-1.cdninstagram.com&_nc_cat=105&_nc_ohc=G50U1uiqZdYAX_cIT1d&oh=4c25284f9f1ba77b087fc1407fa57416&oe=5EBC4647',\n",
       " 'https://scontent-sea1-1.cdninstagram.com/v/t51.2885-15/e35/s1080x1080/90088186_1109857942725429_1410226416325045957_n.jpg?_nc_ht=scontent-sea1-1.cdninstagram.com&_nc_cat=109&_nc_ohc=zyiwqNoOrZIAX-lCF2u&oh=4114695db78fa02a57c7e15fffcadf48&oe=5EE4EA08',\n",
       " 'https://scontent-sea1-1.cdninstagram.com/v/t51.2885-15/e35/s1080x1080/89921173_493275381364448_923681827273695029_n.jpg?_nc_ht=scontent-sea1-1.cdninstagram.com&_nc_cat=108&_nc_ohc=iR5jxgy0E38AX-jIaaY&oh=84223b77d4870a4c7f56a76597a8659f&oe=5EE3B118',\n",
       " 'https://scontent-sea1-1.cdninstagram.com/v/t51.2885-15/e35/p1080x1080/89836164_819566491896751_7134096383817645963_n.jpg?_nc_ht=scontent-sea1-1.cdninstagram.com&_nc_cat=107&_nc_ohc=J2xPjGt3jVgAX92_n0v&oh=14c42a20d428b237b2bf81193685dead&oe=5EE2F892']"
      ]
     },
     "execution_count": 21,
     "metadata": {},
     "output_type": "execute_result"
    }
   ],
   "source": [
    "urls"
   ]
  },
  {
   "cell_type": "code",
   "execution_count": null,
   "metadata": {},
   "outputs": [],
   "source": []
  }
 ],
 "metadata": {
  "kernelspec": {
   "display_name": "Python 3",
   "language": "python",
   "name": "python3"
  },
  "language_info": {
   "codemirror_mode": {
    "name": "ipython",
    "version": 3
   },
   "file_extension": ".py",
   "mimetype": "text/x-python",
   "name": "python",
   "nbconvert_exporter": "python",
   "pygments_lexer": "ipython3",
   "version": "3.7.3"
  }
 },
 "nbformat": 4,
 "nbformat_minor": 2
}
